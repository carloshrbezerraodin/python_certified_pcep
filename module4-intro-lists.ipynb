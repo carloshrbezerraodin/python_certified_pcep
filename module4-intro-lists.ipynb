{
 "cells": [
  {
   "cell_type": "code",
   "execution_count": 1,
   "id": "4b9e70e1-d145-4bbc-8543-9a8069d9d36c",
   "metadata": {},
   "outputs": [],
   "source": [
    "empty_list = []"
   ]
  },
  {
   "cell_type": "code",
   "execution_count": 23,
   "id": "0c265913-4fda-4fd6-bb7a-ded91329e6c1",
   "metadata": {},
   "outputs": [
    {
     "name": "stdout",
     "output_type": "stream",
     "text": [
      "['Fortaleza', 'Brasilia', 'Ruio granded']\n"
     ]
    }
   ],
   "source": [
    "top_cities = ['Fortaleza', 'Brasilia','Ruio granded']\n",
    "print(top_cities)"
   ]
  },
  {
   "cell_type": "code",
   "execution_count": 5,
   "id": "766ef89e-8f5d-49fa-a8d2-861851061c99",
   "metadata": {},
   "outputs": [
    {
     "data": {
      "text/plain": [
       "'Fortaleza'"
      ]
     },
     "execution_count": 5,
     "metadata": {},
     "output_type": "execute_result"
    }
   ],
   "source": [
    "top_cities[0]"
   ]
  },
  {
   "cell_type": "code",
   "execution_count": 25,
   "id": "7886e3fc-157d-4cd5-8231-0266c3e2532c",
   "metadata": {},
   "outputs": [
    {
     "data": {
      "text/plain": [
       "['Fortaleza', 'Brasilia', 'Ruio granded']"
      ]
     },
     "execution_count": 25,
     "metadata": {},
     "output_type": "execute_result"
    }
   ],
   "source": [
    "top_cities[0:3]"
   ]
  },
  {
   "cell_type": "code",
   "execution_count": 29,
   "id": "93f5c383-845d-4989-a9ca-80b992f3d969",
   "metadata": {},
   "outputs": [],
   "source": [
    "del top_cities[2]"
   ]
  },
  {
   "cell_type": "code",
   "execution_count": 31,
   "id": "403484eb-40aa-46ad-ab65-f48048be7ab8",
   "metadata": {},
   "outputs": [
    {
     "name": "stdout",
     "output_type": "stream",
     "text": [
      "['Fortaleza', 'Brasilia']\n"
     ]
    }
   ],
   "source": [
    "print(top_cities)"
   ]
  },
  {
   "cell_type": "code",
   "execution_count": 33,
   "id": "9100665c-f7ed-4719-81fe-7fbe50674327",
   "metadata": {},
   "outputs": [],
   "source": [
    "top_cities.append('Tteste')"
   ]
  },
  {
   "cell_type": "code",
   "execution_count": 35,
   "id": "7816cefc-7b79-4cb4-ba80-56607c40a7a4",
   "metadata": {},
   "outputs": [
    {
     "name": "stdout",
     "output_type": "stream",
     "text": [
      "['Fortaleza', 'Brasilia', 'Tteste']\n"
     ]
    }
   ],
   "source": [
    "print(top_cities)"
   ]
  },
  {
   "cell_type": "code",
   "execution_count": 37,
   "id": "1ae7ca12-7275-496c-b7b4-f269ea39ddf7",
   "metadata": {},
   "outputs": [],
   "source": [
    "top_cities.insert(1, 'Maraba')"
   ]
  },
  {
   "cell_type": "code",
   "execution_count": 39,
   "id": "1a41bd6e-51f9-4a57-8061-ef763cf3c856",
   "metadata": {},
   "outputs": [
    {
     "name": "stdout",
     "output_type": "stream",
     "text": [
      "['Fortaleza', 'Maraba', 'Brasilia', 'Tteste']\n"
     ]
    }
   ],
   "source": [
    "print(top_cities)"
   ]
  },
  {
   "cell_type": "code",
   "execution_count": 43,
   "id": "3b57866a-c07c-4c30-bd0d-259c078147bd",
   "metadata": {},
   "outputs": [
    {
     "name": "stdout",
     "output_type": "stream",
     "text": [
      "Fortaleza\n",
      "Maraba\n",
      "Brasilia\n",
      "Tteste\n"
     ]
    }
   ],
   "source": [
    "for city in top_cities:\n",
    "    print(city)"
   ]
  },
  {
   "cell_type": "code",
   "execution_count": 45,
   "id": "2185520c-14ec-4160-82b7-433f286bb825",
   "metadata": {},
   "outputs": [
    {
     "name": "stdout",
     "output_type": "stream",
     "text": [
      "Fortaleza\n",
      "Maraba\n",
      "Brasilia\n",
      "Tteste\n"
     ]
    }
   ],
   "source": [
    "for city in range(len(top_cities)):\n",
    "    print(top_cities[city])"
   ]
  },
  {
   "cell_type": "code",
   "execution_count": 54,
   "id": "1aac6c36-74a8-4df8-a25c-542dd0908519",
   "metadata": {},
   "outputs": [
    {
     "name": "stdout",
     "output_type": "stream",
     "text": [
      "['Brasilia', 'Fortaleza', 'Maraba', 'Tteste']\n"
     ]
    }
   ],
   "source": [
    "top_cities.sort()\n",
    "print(top_cities)"
   ]
  },
  {
   "cell_type": "code",
   "execution_count": 58,
   "id": "505f2a26-194d-4aa0-b80f-f192e28f3973",
   "metadata": {},
   "outputs": [
    {
     "name": "stdout",
     "output_type": "stream",
     "text": [
      "['Brasilia', 'Fortaleza', 'Maraba', 'Tteste']\n"
     ]
    }
   ],
   "source": [
    "print(sorted(top_cities))"
   ]
  },
  {
   "cell_type": "code",
   "execution_count": 60,
   "id": "afd3cbda-e950-48bf-8109-d4f946810ec2",
   "metadata": {},
   "outputs": [],
   "source": [
    "numbers = [i for i in range(1,101)]"
   ]
  },
  {
   "cell_type": "code",
   "execution_count": 62,
   "id": "8df16659-b3f1-4445-86c3-eab32725f506",
   "metadata": {},
   "outputs": [
    {
     "name": "stdout",
     "output_type": "stream",
     "text": [
      "[1, 2, 3, 4, 5, 6, 7, 8, 9, 10, 11, 12, 13, 14, 15, 16, 17, 18, 19, 20, 21, 22, 23, 24, 25, 26, 27, 28, 29, 30, 31, 32, 33, 34, 35, 36, 37, 38, 39, 40, 41, 42, 43, 44, 45, 46, 47, 48, 49, 50, 51, 52, 53, 54, 55, 56, 57, 58, 59, 60, 61, 62, 63, 64, 65, 66, 67, 68, 69, 70, 71, 72, 73, 74, 75, 76, 77, 78, 79, 80, 81, 82, 83, 84, 85, 86, 87, 88, 89, 90, 91, 92, 93, 94, 95, 96, 97, 98, 99, 100]\n"
     ]
    }
   ],
   "source": [
    "print(numbers)"
   ]
  },
  {
   "cell_type": "code",
   "execution_count": 64,
   "id": "4f0d8d5c-8a2a-4e5e-a9ad-888f1cbee278",
   "metadata": {},
   "outputs": [
    {
     "name": "stdout",
     "output_type": "stream",
     "text": [
      "[1, 2, 4, 5, 7, 8, 10, 11, 13, 14, 16, 17, 19, 20, 22, 23, 25, 26, 28, 29, 31, 32, 34, 35, 37, 38, 40, 41, 43, 44, 46, 47, 49, 50, 52, 53, 55, 56, 58, 59, 61, 62, 64, 65, 67, 68, 70, 71, 73, 74, 76, 77, 79, 80, 82, 83, 85, 86, 88, 89, 91, 92, 94, 95, 97, 98, 100]\n"
     ]
    }
   ],
   "source": [
    "numbers = [i for i in range(1,101) if i % 3 != 0]\n",
    "print(numbers)"
   ]
  },
  {
   "cell_type": "code",
   "execution_count": 78,
   "id": "90a2b652-a38d-4371-a826-a672a6c92ae2",
   "metadata": {},
   "outputs": [
    {
     "name": "stdout",
     "output_type": "stream",
     "text": [
      "[2]\n"
     ]
    }
   ],
   "source": [
    "list_a = [1, 2, 3]\n",
    "list_b = list_a[-2:-1]\n",
    "list_c = list_a[-1:-2]\n",
    "\n",
    "print(list_a[-2:-1])\n",
    "\n",
    "\n"
   ]
  },
  {
   "cell_type": "code",
   "execution_count": 80,
   "id": "fe4c1154-0936-4384-becb-931cb4aaf246",
   "metadata": {},
   "outputs": [
    {
     "name": "stdout",
     "output_type": "stream",
     "text": [
      "l\n"
     ]
    }
   ],
   "source": [
    "print('carlos'[3])"
   ]
  },
  {
   "cell_type": "code",
   "execution_count": 84,
   "id": "9c189b78-3500-4436-83b1-03761a02c53a",
   "metadata": {},
   "outputs": [
    {
     "name": "stdout",
     "output_type": "stream",
     "text": [
      "a\n",
      "b\n"
     ]
    }
   ],
   "source": [
    "my_dict = {}\n",
    "my_list = ['a', 'b', 'c']\n",
    "for i in range(len(my_list) - 1):\n",
    "    my_dict[my_list[i]] = (my_list[i], my_list[i+1])\n",
    "for i in sorted(my_dict.keys()):\n",
    "    k = my_dict[i]\n",
    "    print(k[0])"
   ]
  },
  {
   "cell_type": "code",
   "execution_count": null,
   "id": "ef9c4b6d-42d3-4088-9cf9-251baaecef95",
   "metadata": {},
   "outputs": [],
   "source": []
  }
 ],
 "metadata": {
  "kernelspec": {
   "display_name": "Python 3 (ipykernel)",
   "language": "python",
   "name": "python3"
  },
  "language_info": {
   "codemirror_mode": {
    "name": "ipython",
    "version": 3
   },
   "file_extension": ".py",
   "mimetype": "text/x-python",
   "name": "python",
   "nbconvert_exporter": "python",
   "pygments_lexer": "ipython3",
   "version": "3.12.4"
  }
 },
 "nbformat": 4,
 "nbformat_minor": 5
}
