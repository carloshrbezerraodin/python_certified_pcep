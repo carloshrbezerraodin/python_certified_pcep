{
 "cells": [
  {
   "cell_type": "code",
   "execution_count": 1,
   "id": "64d71695-9fba-406c-b4dd-7ba247c17ee3",
   "metadata": {},
   "outputs": [
    {
     "data": {
      "text/plain": [
       "5"
      ]
     },
     "execution_count": 1,
     "metadata": {},
     "output_type": "execute_result"
    }
   ],
   "source": [
    "len('Hello')\n"
   ]
  },
  {
   "cell_type": "code",
   "execution_count": 9,
   "id": "ea64c2be-5b3c-41c3-b9cd-11f051b816e8",
   "metadata": {},
   "outputs": [
    {
     "name": "stdout",
     "output_type": "stream",
     "text": [
      "3.6e+20\n"
     ]
    }
   ],
   "source": [
    "print(36. * 10000000000000000000)"
   ]
  },
  {
   "cell_type": "code",
   "execution_count": null,
   "id": "63e1a3dc-41b2-4c1c-8a97-1b66162f232b",
   "metadata": {},
   "outputs": [],
   "source": []
  }
 ],
 "metadata": {
  "kernelspec": {
   "display_name": "Python 3 (ipykernel)",
   "language": "python",
   "name": "python3"
  },
  "language_info": {
   "codemirror_mode": {
    "name": "ipython",
    "version": 3
   },
   "file_extension": ".py",
   "mimetype": "text/x-python",
   "name": "python",
   "nbconvert_exporter": "python",
   "pygments_lexer": "ipython3",
   "version": "3.12.4"
  }
 },
 "nbformat": 4,
 "nbformat_minor": 5
}
