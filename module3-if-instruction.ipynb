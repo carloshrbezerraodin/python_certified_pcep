{
 "cells": [
  {
   "cell_type": "code",
   "execution_count": 3,
   "id": "2f22efe7-1938-441d-8b16-fddaa3240310",
   "metadata": {},
   "outputs": [
    {
     "name": "stdin",
     "output_type": "stream",
     "text": [
      "numero 34\n"
     ]
    }
   ],
   "source": [
    "idade = int(input('numero'))\n",
    "\n",
    "if idade <= 10:\n",
    "    print(idade)\n",
    "elif idade == 10:\n",
    "    print(idade)"
   ]
  },
  {
   "cell_type": "code",
   "execution_count": 7,
   "id": "81484a9c-7e2b-414f-9765-e940c2ef5060",
   "metadata": {},
   "outputs": [
    {
     "name": "stdout",
     "output_type": "stream",
     "text": [
      "true\n"
     ]
    },
    {
     "name": "stdin",
     "output_type": "stream",
     "text": [
      "digite a senha fdf\n"
     ]
    },
    {
     "name": "stdout",
     "output_type": "stream",
     "text": [
      "senha incorreta\n"
     ]
    }
   ],
   "source": [
    "if True:\n",
    "    print('true')\n",
    "\n",
    "senha = input('digite a senha')\n",
    "if senha != 'senha':\n",
    "    print('senha incorreta')\n",
    "else:\n",
    "    print('senha correta')"
   ]
  },
  {
   "cell_type": "code",
   "execution_count": 13,
   "id": "175ac8da-b3c1-48e6-bf14-8bbdab7c877e",
   "metadata": {},
   "outputs": [
    {
     "name": "stdin",
     "output_type": "stream",
     "text": [
      "numero 4\n"
     ]
    },
    {
     "name": "stdout",
     "output_type": "stream",
     "text": [
      "4\n"
     ]
    }
   ],
   "source": [
    "idade = int(input('numero'))\n",
    "\n",
    "if idade <= 10 and type(idade) == int:\n",
    "    print(idade)\n",
    "elif idade == 10:\n",
    "    print(idade)"
   ]
  },
  {
   "cell_type": "code",
   "execution_count": 19,
   "id": "d843a845-4604-4cc2-ba10-c5ebf88605bd",
   "metadata": {},
   "outputs": [
    {
     "name": "stdout",
     "output_type": "stream",
     "text": [
      "2\n",
      "3\n",
      "4\n",
      "5\n",
      "6\n",
      "7\n",
      "8\n",
      "9\n",
      "10\n"
     ]
    }
   ],
   "source": [
    "contador = 1\n",
    "while contador < 10:\n",
    "    contador += 1;\n",
    "    print(contador)"
   ]
  },
  {
   "cell_type": "code",
   "execution_count": 21,
   "id": "e9b8ef8a-dfbf-49f5-b45e-95899b7278ff",
   "metadata": {},
   "outputs": [
    {
     "name": "stdout",
     "output_type": "stream",
     "text": [
      "c\n",
      "a\n",
      "r\n",
      "l\n",
      "o\n",
      "s\n"
     ]
    }
   ],
   "source": [
    "nome = 'carlos'\n",
    "\n",
    "\n",
    "for letter in nome:\n",
    "    print(letter)"
   ]
  },
  {
   "cell_type": "code",
   "execution_count": 23,
   "id": "d8cc37f5-5186-4595-899b-cbcdeaa6c599",
   "metadata": {},
   "outputs": [
    {
     "name": "stdout",
     "output_type": "stream",
     "text": [
      "True\n"
     ]
    }
   ],
   "source": [
    "a = 5\n",
    "b = 1\n",
    "c = a > b or b < a and a == 1\n",
    "print(c)\n",
    "\n",
    "\n",
    "\n",
    "\n"
   ]
  },
  {
   "cell_type": "code",
   "execution_count": 25,
   "id": "3dcca71a-36e8-4487-a10c-f17b9d8b4045",
   "metadata": {},
   "outputs": [
    {
     "name": "stdout",
     "output_type": "stream",
     "text": [
      "1\n",
      "2\n",
      "3\n",
      "4\n",
      "5\n"
     ]
    }
   ],
   "source": [
    "for a in range(1, 6):\n",
    "    print(a)"
   ]
  },
  {
   "cell_type": "code",
   "execution_count": 29,
   "id": "6c5dea5b-7428-47e7-87b1-031ac4f44134",
   "metadata": {},
   "outputs": [
    {
     "name": "stdout",
     "output_type": "stream",
     "text": [
      "6\n",
      "7\n",
      "8\n",
      "9\n",
      "10\n",
      "11\n"
     ]
    }
   ],
   "source": [
    "a = 'Udemy rocks'\n",
    "i = 5\n",
    "while i < len(a):\n",
    "  i += 1\n",
    "print(i)"
   ]
  },
  {
   "cell_type": "code",
   "execution_count": 48,
   "id": "4861d8c8-1bde-48ec-b406-92830fb32989",
   "metadata": {},
   "outputs": [],
   "source": [
    "def fun(x, z,  y = 4) :\n",
    "    print(x, y, z)"
   ]
  },
  {
   "cell_type": "code",
   "execution_count": null,
   "id": "7a9ae89b-f757-41d9-94a5-c491115c86a8",
   "metadata": {},
   "outputs": [],
   "source": []
  },
  {
   "cell_type": "code",
   "execution_count": 56,
   "id": "6a7bd254-ddc9-4861-a301-6c26fd0016b8",
   "metadata": {},
   "outputs": [
    {
     "name": "stdout",
     "output_type": "stream",
     "text": [
      "True\n"
     ]
    }
   ],
   "source": [
    "numers = [1, 2, 5]\n",
    "values = numers\n",
    "del values[1:2]\n",
    "\n",
    "print(numers == values)\n",
    "#apontam para mesma lista\n"
   ]
  },
  {
   "cell_type": "code",
   "execution_count": 60,
   "id": "17f414b4-b556-4f14-9324-d6538bb7d8c5",
   "metadata": {},
   "outputs": [
    {
     "name": "stdout",
     "output_type": "stream",
     "text": [
      "a\n"
     ]
    }
   ],
   "source": [
    "if 0 >= 0:\n",
    "    print('a')"
   ]
  },
  {
   "cell_type": "code",
   "execution_count": null,
   "id": "1a1cc88c-648e-4b32-a547-5e64b6788be4",
   "metadata": {},
   "outputs": [],
   "source": []
  }
 ],
 "metadata": {
  "kernelspec": {
   "display_name": "Python 3 (ipykernel)",
   "language": "python",
   "name": "python3"
  },
  "language_info": {
   "codemirror_mode": {
    "name": "ipython",
    "version": 3
   },
   "file_extension": ".py",
   "mimetype": "text/x-python",
   "name": "python",
   "nbconvert_exporter": "python",
   "pygments_lexer": "ipython3",
   "version": "3.12.4"
  }
 },
 "nbformat": 4,
 "nbformat_minor": 5
}
