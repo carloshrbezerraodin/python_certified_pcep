{
 "cells": [
  {
   "cell_type": "code",
   "execution_count": 3,
   "id": "84f465f7-eb0b-4253-886d-3dc8929b39a6",
   "metadata": {},
   "outputs": [
    {
     "name": "stdout",
     "output_type": "stream",
     "text": [
      "teste\n",
      "0\n"
     ]
    }
   ],
   "source": [
    "greeting = 'teste'\n",
    "print(greeting)\n",
    "\n",
    "_nome_valido = 0\n",
    "nome_vaalido = 0\n",
    "print(_nome_valido)"
   ]
  },
  {
   "cell_type": "code",
   "execution_count": 5,
   "id": "ddb36df6-71eb-4d8d-a8de-e54a68af657b",
   "metadata": {},
   "outputs": [
    {
     "name": "stdout",
     "output_type": "stream",
     "text": [
      "3\n"
     ]
    }
   ],
   "source": [
    "var = 7 // 2\n",
    "print(var)"
   ]
  },
  {
   "cell_type": "code",
   "execution_count": 13,
   "id": "498e511e-46ba-4aac-8ce7-0f453b505ac9",
   "metadata": {},
   "outputs": [
    {
     "name": "stdout",
     "output_type": "stream",
     "text": [
      "55555\n"
     ]
    }
   ],
   "source": [
    "print('5' * 5)"
   ]
  },
  {
   "cell_type": "code",
   "execution_count": null,
   "id": "054ee9de-1803-4c92-bd2b-ecbbacc6b6e3",
   "metadata": {},
   "outputs": [],
   "source": []
  }
 ],
 "metadata": {
  "kernelspec": {
   "display_name": "Python 3 (ipykernel)",
   "language": "python",
   "name": "python3"
  },
  "language_info": {
   "codemirror_mode": {
    "name": "ipython",
    "version": 3
   },
   "file_extension": ".py",
   "mimetype": "text/x-python",
   "name": "python",
   "nbconvert_exporter": "python",
   "pygments_lexer": "ipython3",
   "version": "3.12.4"
  }
 },
 "nbformat": 4,
 "nbformat_minor": 5
}
